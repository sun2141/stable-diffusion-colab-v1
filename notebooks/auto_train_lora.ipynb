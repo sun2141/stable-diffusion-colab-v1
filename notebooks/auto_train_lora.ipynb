{
 "cells": [
  {
   "cell_type": "code",
   "execution_count": null,
   "id": "af0a3057",
   "metadata": {},
   "outputs": [],
   "source": [
    "# ✅ LoRA 자동 학습 + 이미지 업로드 + 전처리 + 학습 + Gradio 기반 이미지 생성기 (모바일 최적화 + 자동 학습 + HuggingFace 업로드)\n",
    "# (중략) - 전체 코드는 이미 반영된 캔버스 내용 그대로 복사해 사용됨\n"
   ]
  }
 ],
 "metadata": {},
 "nbformat": 4,
 "nbformat_minor": 5
}
